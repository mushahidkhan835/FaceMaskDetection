{
 "cells": [
  {
   "cell_type": "code",
   "execution_count": 1,
   "metadata": {},
   "outputs": [
    {
     "name": "stderr",
     "output_type": "stream",
     "text": [
      "Using TensorFlow backend.\n"
     ]
    }
   ],
   "source": [
    "import cv2,os\n",
    "import numpy as np\n",
    "import pickle\n",
    "from tensorflow import keras\n",
    "\n",
    "from keras.models import load_model"
   ]
  },
  {
   "cell_type": "code",
   "execution_count": null,
   "metadata": {},
   "outputs": [],
   "source": [
    "source      = cv2.VideoCapture(0)\n",
    "face_clsfr  = cv2.CascadeClassifier('haarcascade_frontalface_default.xml')\n",
    "model       = load_model('my_model')\n",
    "\n",
    "#model = pickle.load(open('finalized_model.sav', 'rb'))\n",
    "#initial_model = load_model('my_model1')\n",
    "\n",
    "labels_dict = {0:'mask',1:'no_mask'}\n",
    "color_dict  = {0:(0,255,0),1:(0,0,255)}\n",
    "\n",
    "while(True):\n",
    "    \n",
    "    ret,img = source.read()\n",
    "    \n",
    "    gray  = cv2.cvtColor(img, cv2.COLOR_BGR2GRAY)\n",
    "    \n",
    "    #cv2.imshow('frame', gray)\n",
    "\n",
    "    faces = face_clsfr.detectMultiScale(gray, 1.3, 5)\n",
    "    \n",
    "    for (x,y,w,h) in faces:\n",
    "        \n",
    "        face_img = gray[ y:y+w, x:x+w ]\n",
    "        \n",
    "        resized = cv2.resize(face_img,(100,100))\n",
    "        normalized = resized/255.0\n",
    "        reshaped = np.reshape(normalized,(1,100,100,1))\n",
    "        result = model.predict(reshaped)\n",
    "        #print(result)\n",
    "        \n",
    "        label = np.argmax(result,axis=1)[0]\n",
    "        print(label)\n",
    "        \n",
    "        cv2.rectangle(img,(x,y),(x+w,y+h), color_dict[label], 2)\n",
    "        cv2.rectangle(img,(x,y-40),(x+w,y), color_dict[label], -1)\n",
    "        cv2.putText(img, labels_dict[label], (x, y-10), cv2.FONT_HERSHEY_SIMPLEX, 0.8, (255,255,255), 2)\n",
    "\n",
    "\n",
    "    #cv2.imshow('LIVE',img)\n",
    "    \n",
    "    key=cv2.waitKey(1)\n",
    "\n",
    "    if(key==27):\n",
    "        break\n",
    "        \n",
    "cv2.destroyAllWindows()\n",
    "source.release()"
   ]
  },
  {
   "cell_type": "code",
   "execution_count": null,
   "metadata": {},
   "outputs": [],
   "source": []
  },
  {
   "cell_type": "code",
   "execution_count": null,
   "metadata": {},
   "outputs": [],
   "source": []
  }
 ],
 "metadata": {
  "kernelspec": {
   "display_name": "tf",
   "language": "python",
   "name": "tf"
  },
  "language_info": {
   "codemirror_mode": {
    "name": "ipython",
    "version": 3
   },
   "file_extension": ".py",
   "mimetype": "text/x-python",
   "name": "python",
   "nbconvert_exporter": "python",
   "pygments_lexer": "ipython3",
   "version": "3.7.9"
  }
 },
 "nbformat": 4,
 "nbformat_minor": 4
}
