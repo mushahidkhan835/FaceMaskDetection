{
 "cells": [
  {
   "cell_type": "code",
   "execution_count": 1,
   "metadata": {},
   "outputs": [],
   "source": [
    "import pickle\n",
    "import numpy as np"
   ]
  },
  {
   "cell_type": "code",
   "execution_count": 2,
   "metadata": {},
   "outputs": [],
   "source": [
    "from sklearn.metrics import accuracy_score, confusion_matrix, classification_report, recall_score, precision_score, f1_score"
   ]
  },
  {
   "cell_type": "code",
   "execution_count": 3,
   "metadata": {},
   "outputs": [],
   "source": [
    "svm_model, svm_ytest, svm_pred = pickle.load(open(\"svm.pkl\", 'rb'))"
   ]
  },
  {
   "cell_type": "code",
   "execution_count": 4,
   "metadata": {},
   "outputs": [
    {
     "name": "stdout",
     "output_type": "stream",
     "text": [
      "0.989\n",
      "[[490   2]\n",
      " [  9 499]]\n",
      "              precision    recall  f1-score   support\n",
      "\n",
      "         0.0       0.98      1.00      0.99       492\n",
      "         1.0       1.00      0.98      0.99       508\n",
      "\n",
      "    accuracy                           0.99      1000\n",
      "   macro avg       0.99      0.99      0.99      1000\n",
      "weighted avg       0.99      0.99      0.99      1000\n",
      "\n",
      "0.9822834645669292\n",
      "0.9960079840319361\n",
      "0.9890981169474728\n"
     ]
    }
   ],
   "source": [
    "print(accuracy_score(svm_ytest,svm_pred))\n",
    "print(confusion_matrix(svm_ytest,svm_pred))\n",
    "print(classification_report(svm_ytest,svm_pred))\n",
    "print(recall_score(svm_ytest,svm_pred))\n",
    "print(precision_score(svm_ytest,svm_pred))\n",
    "print(f1_score(svm_ytest,svm_pred))"
   ]
  },
  {
   "cell_type": "code",
   "execution_count": 5,
   "metadata": {},
   "outputs": [],
   "source": [
    "dt_model, dt_ytest, dt_pred = pickle.load(open(\"dt.pkl\", 'rb'))"
   ]
  },
  {
   "cell_type": "code",
   "execution_count": 6,
   "metadata": {},
   "outputs": [
    {
     "name": "stdout",
     "output_type": "stream",
     "text": [
      "0.983\n",
      "[[487   5]\n",
      " [ 12 496]]\n",
      "              precision    recall  f1-score   support\n",
      "\n",
      "         0.0       0.98      0.99      0.98       492\n",
      "         1.0       0.99      0.98      0.98       508\n",
      "\n",
      "    accuracy                           0.98      1000\n",
      "   macro avg       0.98      0.98      0.98      1000\n",
      "weighted avg       0.98      0.98      0.98      1000\n",
      "\n",
      "0.9763779527559056\n",
      "0.9900199600798403\n",
      "0.9831516352824579\n"
     ]
    }
   ],
   "source": [
    "print(accuracy_score(dt_ytest,dt_pred))\n",
    "print(confusion_matrix(dt_ytest,dt_pred))\n",
    "print(classification_report(dt_ytest,dt_pred))\n",
    "print(recall_score(dt_ytest,dt_pred))\n",
    "print(precision_score(dt_ytest,dt_pred))\n",
    "print(f1_score(dt_ytest,dt_pred))"
   ]
  },
  {
   "cell_type": "code",
   "execution_count": 7,
   "metadata": {},
   "outputs": [],
   "source": [
    "knn_model, knn_ytest, knn_pred = pickle.load(open(\"knn.pkl\", 'rb'))"
   ]
  },
  {
   "cell_type": "code",
   "execution_count": 8,
   "metadata": {},
   "outputs": [
    {
     "name": "stdout",
     "output_type": "stream",
     "text": [
      "0.989\n",
      "[[489   3]\n",
      " [  8 500]]\n",
      "              precision    recall  f1-score   support\n",
      "\n",
      "         0.0       0.98      0.99      0.99       492\n",
      "         1.0       0.99      0.98      0.99       508\n",
      "\n",
      "    accuracy                           0.99      1000\n",
      "   macro avg       0.99      0.99      0.99      1000\n",
      "weighted avg       0.99      0.99      0.99      1000\n",
      "\n",
      "0.984251968503937\n",
      "0.9940357852882704\n",
      "0.9891196834817013\n"
     ]
    }
   ],
   "source": [
    "print(accuracy_score(knn_ytest,knn_pred))\n",
    "print(confusion_matrix(knn_ytest,knn_pred))\n",
    "print(classification_report(knn_ytest,knn_pred))\n",
    "print(recall_score(knn_ytest,knn_pred))\n",
    "print(precision_score(knn_ytest,knn_pred))\n",
    "print(f1_score(knn_ytest,knn_pred))"
   ]
  },
  {
   "cell_type": "markdown",
   "metadata": {},
   "source": [
    "<b>Mask Detection using the best model</b>"
   ]
  },
  {
   "cell_type": "code",
   "execution_count": 9,
   "metadata": {},
   "outputs": [],
   "source": [
    "import mask_detection"
   ]
  },
  {
   "cell_type": "markdown",
   "metadata": {},
   "source": [
    "<b>Choosing the model type as classification or deep-learning. For classification, the model is also passed as parameter</b>"
   ]
  },
  {
   "cell_type": "code",
   "execution_count": 11,
   "metadata": {},
   "outputs": [
    {
     "name": "stdout",
     "output_type": "stream",
     "text": [
      "in camera class\n"
     ]
    }
   ],
   "source": [
    "type= 'classification'\n",
    "mask_detection.main(type, svm_model)"
   ]
  },
  {
   "cell_type": "code",
   "execution_count": null,
   "metadata": {},
   "outputs": [],
   "source": []
  },
  {
   "cell_type": "code",
   "execution_count": null,
   "metadata": {},
   "outputs": [],
   "source": []
  },
  {
   "cell_type": "code",
   "execution_count": null,
   "metadata": {},
   "outputs": [],
   "source": []
  }
 ],
 "metadata": {
  "kernelspec": {
   "display_name": "Python 3",
   "language": "python",
   "name": "python3"
  },
  "language_info": {
   "codemirror_mode": {
    "name": "ipython",
    "version": 3
   },
   "file_extension": ".py",
   "mimetype": "text/x-python",
   "name": "python",
   "nbconvert_exporter": "python",
   "pygments_lexer": "ipython3",
   "version": "3.7.9"
  }
 },
 "nbformat": 4,
 "nbformat_minor": 4
}
